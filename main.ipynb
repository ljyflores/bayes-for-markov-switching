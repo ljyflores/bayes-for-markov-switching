{
 "cells": [
  {
   "cell_type": "code",
   "execution_count": 2,
   "metadata": {},
   "outputs": [
    {
     "name": "stderr",
     "output_type": "stream",
     "text": [
      "/Users/lorenzoflores/Documents/GitHub/bayes-for-markov-switching/utils.py:39: RuntimeWarning: invalid value encountered in true_divide\n",
      "  ett11 = ett11/fit\n",
      "/Users/lorenzoflores/Documents/GitHub/bayes-for-markov-switching/utils.py:41: RuntimeWarning: divide by zero encountered in log\n",
      "  total_likelihood += np.log(fit)\n"
     ]
    }
   ],
   "source": [
    "import numpy as np\n",
    "import pandas as pd\n",
    "import matplotlib.pyplot as plt\n",
    "from utils import *\n",
    "df = pd.read_csv(\"SPY.csv\")\n",
    "\n",
    "params = {'num_states': 2,\n",
    "          'sig0': 1,\n",
    "          'sig1': 3,\n",
    "          'p': 0.95,\n",
    "          'q': 0.95,\n",
    "          'd0': 1 ,\n",
    "          'v0': 1,\n",
    "          'u00': 10, #p11 ~ D(u00,u01)\n",
    "          'u01': 5,\n",
    "          'u11': 10, #p11 ~ D(u11,u10)\n",
    "          'u10': 5,\n",
    "          'reps': 100\n",
    "        }\n",
    "\n",
    "burnin = 1000\n",
    "\n",
    "x, y = preprocess_ts(df['Close'], lags=2)\n",
    "out1, out2, out3 = estimate(x, y, **params)\n",
    "\n"
   ]
  },
  {
   "cell_type": "code",
   "execution_count": 42,
   "metadata": {},
   "outputs": [
    {
     "data": {
      "text/plain": [
       "Text(0.5, 1.0, 'Probability of State 1 \\n p00: 0.925, p01: 0.075, p10: 0.632, p11: 0.368')"
      ]
     },
     "execution_count": 42,
     "metadata": {},
     "output_type": "execute_result"
    },
    {
     "data": {
      "image/png": "[encoded data removed]",
      "text/plain": [
       "<Figure size 432x288 with 1 Axes>"
      ]
     },
     "metadata": {
      "needs_background": "light"
     },
     "output_type": "display_data"
    }
   ],
   "source": [
    "# Plot probability across states\n",
    "S = np.vstack(out1).mean(axis=0)\n",
    "p00, p01, p10, p11 = list(np.stack(out2).reshape(50, -1).mean(axis=0))\n",
    "plt.plot(S)\n",
    "plt.xlabel('Time')\n",
    "plt.ylabel('Prob in State 1')\n",
    "plt.title(f\"Probability of State 1 \\n p00: {round(p00,3)}, p01: {round(p01,3)}, p10: {round(p10,3)}, p11: {round(p11,3)}\")"
   ]
  },
  {
   "cell_type": "code",
   "execution_count": 73,
   "metadata": {},
   "outputs": [
    {
     "name": "stdout",
     "output_type": "stream",
     "text": [
      "phi0: 1.009 (0.055), 0.061 (0.388), -0.056 (0.305), -0.001 (0.043)\n",
      "phi1: -0.48 (9.139), -0.466 (10.35), 0.003 (9.508), -1.057 (9.803)\n",
      "sigma0: 0.003 (0.006)\n",
      "sigma1: 6593.182 (44997.702)\n",
      "mu: -1.412 (11.04), -0.775 (10.075)\n"
     ]
    }
   ],
   "source": [
    "# Collect parameters\n",
    "final_params = {'phi0':[], 'phi1':[], 'sigma0':[], 'sigma1':[], 'mu':[]}\n",
    "for d in out3:\n",
    "    for key in d:\n",
    "        final_params[key].append(d[key])\n",
    "for key in final_params:\n",
    "    out_matrix = np.vstack([i.reshape(-1) for i in final_params[key]])\n",
    "    print(f\"{key}: {', '.join([f'{round(m,3)} ({round(s,3)})' for (m,s) in zip(out_matrix.mean(axis=0), out_matrix.std(axis=0))])}\")\n",
    "    "
   ]
  },
  {
   "cell_type": "code",
   "execution_count": null,
   "metadata": {},
   "outputs": [],
   "source": []
  }
 ],
 "metadata": {
  "kernelspec": {
   "display_name": "Python 3.8.5 ('base')",
   "language": "python",
   "name": "python3"
  },
  "language_info": {
   "codemirror_mode": {
    "name": "ipython",
    "version": 3
   },
   "file_extension": ".py",
   "mimetype": "text/x-python",
   "name": "python",
   "nbconvert_exporter": "python",
   "pygments_lexer": "ipython3",
   "version": "3.8.5"
  },
  "orig_nbformat": 4,
  "vscode": {
   "interpreter": {
    "hash": "40d3a090f54c6569ab1632332b64b2c03c39dcf918b08424e98f38b5ae0af88f"
   }
  }
 },
 "nbformat": 4,
 "nbformat_minor": 2
}
